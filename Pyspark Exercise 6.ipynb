{
 "cells": [
  {
   "cell_type": "code",
   "execution_count": 1,
   "id": "826c6d7e-f1b7-47e4-8db0-1d117d467166",
   "metadata": {},
   "outputs": [
    {
     "data": {
      "text/html": [
       "\n",
       "            <div>\n",
       "                <p><b>SparkSession - in-memory</b></p>\n",
       "                \n",
       "        <div>\n",
       "            <p><b>SparkContext</b></p>\n",
       "\n",
       "            <p><a href=\"http://0bb392cfdb75:4040\">Spark UI</a></p>\n",
       "\n",
       "            <dl>\n",
       "              <dt>Version</dt>\n",
       "                <dd><code>v3.3.0</code></dd>\n",
       "              <dt>Master</dt>\n",
       "                <dd><code>local[*]</code></dd>\n",
       "              <dt>AppName</dt>\n",
       "                <dd><code>Unique data & Window Functions</code></dd>\n",
       "            </dl>\n",
       "        </div>\n",
       "        \n",
       "            </div>\n",
       "        "
      ],
      "text/plain": [
       "<pyspark.sql.session.SparkSession at 0x7f6d957516f0>"
      ]
     },
     "execution_count": 1,
     "metadata": {},
     "output_type": "execute_result"
    }
   ],
   "source": [
    "# Spark Session\n",
    "from pyspark.sql import SparkSession\n",
    "\n",
    "spark = (\n",
    "    SparkSession\n",
    "    .builder\n",
    "    .appName(\"Unique data & Window Functions\")\n",
    "    .master(\"local[*]\")\n",
    "    .getOrCreate()\n",
    ")\n",
    "\n",
    "spark"
   ]
  },
  {
   "cell_type": "code",
   "execution_count": 2,
   "id": "6a04eb93-5b36-4c49-bb70-0eb0377dced2",
   "metadata": {},
   "outputs": [],
   "source": [
    "# Emp Data & Schema\n",
    "\n",
    "emp_data = [\n",
    "    [\"001\",\"101\",\"John Doe\",\"30\",\"Male\",\"50000\",\"2015-01-01\"],\n",
    "    [\"002\",\"101\",\"Jane Smith\",\"25\",\"Female\",\"45000\",\"2016-02-15\"],\n",
    "    [\"003\",\"102\",\"Bob Brown\",\"35\",\"Male\",\"55000\",\"2014-05-01\"],\n",
    "    [\"004\",\"102\",\"Alice Lee\",\"28\",\"Female\",\"48000\",\"2017-09-30\"],\n",
    "    [\"005\",\"103\",\"Jack Chan\",\"40\",\"Male\",\"60000\",\"2013-04-01\"],\n",
    "    [\"006\",\"103\",\"Jill Wong\",\"32\",\"Female\",\"52000\",\"2018-07-01\"],\n",
    "    [\"007\",\"101\",\"James Johnson\",\"42\",\"Male\",\"70000\",\"2012-03-15\"],\n",
    "    [\"008\",\"102\",\"Kate Kim\",\"29\",\"Female\",\"51000\",\"2019-10-01\"],\n",
    "    [\"009\",\"103\",\"Tom Tan\",\"33\",\"Male\",\"58000\",\"2016-06-01\"],\n",
    "    [\"010\",\"104\",\"Lisa Lee\",\"27\",\"Female\",\"47000\",\"2018-08-01\"],\n",
    "    [\"011\",\"104\",\"David Park\",\"38\",\"Male\",\"65000\",\"2015-11-01\"],\n",
    "    [\"012\",\"105\",\"Susan Chen\",\"31\",\"Female\",\"54000\",\"2017-02-15\"],\n",
    "    [\"013\",\"106\",\"Brian Kim\",\"45\",\"Male\",\"75000\",\"2011-07-01\"],\n",
    "    [\"014\",\"107\",\"Emily Lee\",\"26\",\"Female\",\"46000\",\"2019-01-01\"],\n",
    "    [\"015\",\"106\",\"Michael Lee\",\"37\",\"Male\",\"63000\",\"2014-09-30\"],\n",
    "    [\"016\",\"107\",\"Kelly Zhang\",\"30\",\"Female\",\"49000\",\"2018-04-01\"],\n",
    "    [\"017\",\"105\",\"George Wang\",\"34\",\"Male\",\"57000\",\"2016-03-15\"],\n",
    "    [\"018\",\"104\",\"Nancy Liu\",\"29\",\"\",\"50000\",\"2017-06-01\"],\n",
    "    [\"019\",\"103\",\"Steven Chen\",\"36\",\"Male\",\"62000\",\"2015-08-01\"],\n",
    "    [\"020\",\"102\",\"Grace Kim\",\"32\",\"Female\",\"53000\",\"2018-11-01\"]\n",
    "]\n",
    "\n",
    "emp_schema = \"employee_id string, department_id string, name string, age string, gender string, salary string, hire_date string\""
   ]
  },
  {
   "cell_type": "code",
   "execution_count": 3,
   "id": "78781dbb-7777-4643-9dc9-8581ec0c0f0a",
   "metadata": {},
   "outputs": [],
   "source": [
    "# Create emp DataFrame\n",
    "\n",
    "emp = spark.createDataFrame(data=emp_data, schema=emp_schema)"
   ]
  },
  {
   "cell_type": "code",
   "execution_count": 4,
   "id": "ce124c04-c98a-4554-9be0-3f2e45914f78",
   "metadata": {},
   "outputs": [
    {
     "name": "stdout",
     "output_type": "stream",
     "text": [
      "+-----------+-------------+-------------+---+------+------+----------+\n",
      "|employee_id|department_id|         name|age|gender|salary| hire_date|\n",
      "+-----------+-------------+-------------+---+------+------+----------+\n",
      "|        001|          101|     John Doe| 30|  Male| 50000|2015-01-01|\n",
      "|        002|          101|   Jane Smith| 25|Female| 45000|2016-02-15|\n",
      "|        003|          102|    Bob Brown| 35|  Male| 55000|2014-05-01|\n",
      "|        004|          102|    Alice Lee| 28|Female| 48000|2017-09-30|\n",
      "|        005|          103|    Jack Chan| 40|  Male| 60000|2013-04-01|\n",
      "|        006|          103|    Jill Wong| 32|Female| 52000|2018-07-01|\n",
      "|        007|          101|James Johnson| 42|  Male| 70000|2012-03-15|\n",
      "|        008|          102|     Kate Kim| 29|Female| 51000|2019-10-01|\n",
      "|        009|          103|      Tom Tan| 33|  Male| 58000|2016-06-01|\n",
      "|        010|          104|     Lisa Lee| 27|Female| 47000|2018-08-01|\n",
      "|        011|          104|   David Park| 38|  Male| 65000|2015-11-01|\n",
      "|        012|          105|   Susan Chen| 31|Female| 54000|2017-02-15|\n",
      "|        013|          106|    Brian Kim| 45|  Male| 75000|2011-07-01|\n",
      "|        014|          107|    Emily Lee| 26|Female| 46000|2019-01-01|\n",
      "|        015|          106|  Michael Lee| 37|  Male| 63000|2014-09-30|\n",
      "|        016|          107|  Kelly Zhang| 30|Female| 49000|2018-04-01|\n",
      "|        017|          105|  George Wang| 34|  Male| 57000|2016-03-15|\n",
      "|        018|          104|    Nancy Liu| 29|      | 50000|2017-06-01|\n",
      "|        019|          103|  Steven Chen| 36|  Male| 62000|2015-08-01|\n",
      "|        020|          102|    Grace Kim| 32|Female| 53000|2018-11-01|\n",
      "+-----------+-------------+-------------+---+------+------+----------+\n",
      "\n"
     ]
    }
   ],
   "source": [
    "emp.show()"
   ]
  },
  {
   "cell_type": "code",
   "execution_count": 5,
   "id": "e4d98c5a-2e8b-4c93-9d80-8a0614a7c05a",
   "metadata": {},
   "outputs": [
    {
     "name": "stdout",
     "output_type": "stream",
     "text": [
      "root\n",
      " |-- employee_id: string (nullable = true)\n",
      " |-- department_id: string (nullable = true)\n",
      " |-- name: string (nullable = true)\n",
      " |-- age: string (nullable = true)\n",
      " |-- gender: string (nullable = true)\n",
      " |-- salary: string (nullable = true)\n",
      " |-- hire_date: string (nullable = true)\n",
      "\n"
     ]
    }
   ],
   "source": [
    "# Print Schema\n",
    "\n",
    "emp.printSchema()"
   ]
  },
  {
   "cell_type": "code",
   "execution_count": 6,
   "id": "749c2219-9e9c-4127-bb64-4967eea6b515",
   "metadata": {},
   "outputs": [],
   "source": [
    "epm_dept_id = emp.select(\"department_id\").distinct()"
   ]
  },
  {
   "cell_type": "code",
   "execution_count": 8,
   "id": "80f4adf3-3775-4c65-9619-69f3e3df8bef",
   "metadata": {},
   "outputs": [
    {
     "name": "stdout",
     "output_type": "stream",
     "text": [
      "+-----------+-------------+-------------+---+------+------+----------+----------+\n",
      "|employee_id|department_id|         name|age|gender|salary| hire_date|max_salary|\n",
      "+-----------+-------------+-------------+---+------+------+----------+----------+\n",
      "|        007|          101|James Johnson| 42|  Male| 70000|2012-03-15|     70000|\n",
      "|        001|          101|     John Doe| 30|  Male| 50000|2015-01-01|     70000|\n",
      "|        002|          101|   Jane Smith| 25|Female| 45000|2016-02-15|     70000|\n",
      "|        003|          102|    Bob Brown| 35|  Male| 55000|2014-05-01|     55000|\n",
      "|        020|          102|    Grace Kim| 32|Female| 53000|2018-11-01|     55000|\n",
      "|        008|          102|     Kate Kim| 29|Female| 51000|2019-10-01|     55000|\n",
      "|        004|          102|    Alice Lee| 28|Female| 48000|2017-09-30|     55000|\n",
      "|        019|          103|  Steven Chen| 36|  Male| 62000|2015-08-01|     62000|\n",
      "|        005|          103|    Jack Chan| 40|  Male| 60000|2013-04-01|     62000|\n",
      "|        009|          103|      Tom Tan| 33|  Male| 58000|2016-06-01|     62000|\n",
      "|        006|          103|    Jill Wong| 32|Female| 52000|2018-07-01|     62000|\n",
      "|        011|          104|   David Park| 38|  Male| 65000|2015-11-01|     65000|\n",
      "|        018|          104|    Nancy Liu| 29|      | 50000|2017-06-01|     65000|\n",
      "|        010|          104|     Lisa Lee| 27|Female| 47000|2018-08-01|     65000|\n",
      "|        017|          105|  George Wang| 34|  Male| 57000|2016-03-15|     57000|\n",
      "|        012|          105|   Susan Chen| 31|Female| 54000|2017-02-15|     57000|\n",
      "|        013|          106|    Brian Kim| 45|  Male| 75000|2011-07-01|     75000|\n",
      "|        015|          106|  Michael Lee| 37|  Male| 63000|2014-09-30|     75000|\n",
      "|        016|          107|  Kelly Zhang| 30|Female| 49000|2018-04-01|     49000|\n",
      "|        014|          107|    Emily Lee| 26|Female| 46000|2019-01-01|     49000|\n",
      "+-----------+-------------+-------------+---+------+------+----------+----------+\n",
      "\n"
     ]
    }
   ],
   "source": [
    "from pyspark.sql.window import Window\n",
    "from pyspark.sql.functions import max, col\n",
    "\n",
    "window_spec = Window.partitionBy(col(\"department_id\")).orderBy(col(\"salary\").desc())\n",
    "max_func = max(col(\"salary\")).over(window_spec)\n",
    "\n",
    "emp_1 = emp.withColumn(\"max_salary\", max_func)\n",
    "emp_1.show()\n"
   ]
  },
  {
   "cell_type": "code",
   "execution_count": 9,
   "id": "3d64f4da-95c3-40a6-9a77-7536475140a8",
   "metadata": {},
   "outputs": [],
   "source": [
    "from pyspark.sql.window import Window\n",
    "from pyspark.sql.functions import row_number, desc, col\n",
    "\n",
    "window_spec = Window.partitionBy(col(\"department_id\")).orderBy(col(\"salary\").desc())\n",
    "rn = row_number().over(window_spec)\n",
    "\n",
    "emp_2 = emp.withColumn(\"rn\",rn)\n",
    "\n"
   ]
  },
  {
   "cell_type": "code",
   "execution_count": 11,
   "id": "b939f322-2255-45f7-b8a0-bbe04889ec86",
   "metadata": {},
   "outputs": [
    {
     "name": "stdout",
     "output_type": "stream",
     "text": [
      "+-----------+-------------+-------------+---+------+------+----------+---+\n",
      "|employee_id|department_id|         name|age|gender|salary| hire_date| rn|\n",
      "+-----------+-------------+-------------+---+------+------+----------+---+\n",
      "|        007|          101|James Johnson| 42|  Male| 70000|2012-03-15|  1|\n",
      "|        001|          101|     John Doe| 30|  Male| 50000|2015-01-01|  2|\n",
      "|        002|          101|   Jane Smith| 25|Female| 45000|2016-02-15|  3|\n",
      "|        003|          102|    Bob Brown| 35|  Male| 55000|2014-05-01|  1|\n",
      "|        020|          102|    Grace Kim| 32|Female| 53000|2018-11-01|  2|\n",
      "|        008|          102|     Kate Kim| 29|Female| 51000|2019-10-01|  3|\n",
      "|        004|          102|    Alice Lee| 28|Female| 48000|2017-09-30|  4|\n",
      "|        019|          103|  Steven Chen| 36|  Male| 62000|2015-08-01|  1|\n",
      "|        005|          103|    Jack Chan| 40|  Male| 60000|2013-04-01|  2|\n",
      "|        009|          103|      Tom Tan| 33|  Male| 58000|2016-06-01|  3|\n",
      "|        006|          103|    Jill Wong| 32|Female| 52000|2018-07-01|  4|\n",
      "|        011|          104|   David Park| 38|  Male| 65000|2015-11-01|  1|\n",
      "|        018|          104|    Nancy Liu| 29|      | 50000|2017-06-01|  2|\n",
      "|        010|          104|     Lisa Lee| 27|Female| 47000|2018-08-01|  3|\n",
      "|        017|          105|  George Wang| 34|  Male| 57000|2016-03-15|  1|\n",
      "|        012|          105|   Susan Chen| 31|Female| 54000|2017-02-15|  2|\n",
      "|        013|          106|    Brian Kim| 45|  Male| 75000|2011-07-01|  1|\n",
      "|        015|          106|  Michael Lee| 37|  Male| 63000|2014-09-30|  2|\n",
      "|        016|          107|  Kelly Zhang| 30|Female| 49000|2018-04-01|  1|\n",
      "|        014|          107|    Emily Lee| 26|Female| 46000|2019-01-01|  2|\n",
      "+-----------+-------------+-------------+---+------+------+----------+---+\n",
      "\n"
     ]
    }
   ],
   "source": [
    "emp_2.show()"
   ]
  },
  {
   "cell_type": "code",
   "execution_count": 13,
   "id": "8005c20b-3d5d-4cca-94a8-2d93172a58ad",
   "metadata": {},
   "outputs": [
    {
     "name": "stdout",
     "output_type": "stream",
     "text": [
      "+-----------+-------------+-----------+---+------+------+----------+---+\n",
      "|employee_id|department_id|       name|age|gender|salary| hire_date| rn|\n",
      "+-----------+-------------+-----------+---+------+------+----------+---+\n",
      "|        001|          101|   John Doe| 30|  Male| 50000|2015-01-01|  2|\n",
      "|        020|          102|  Grace Kim| 32|Female| 53000|2018-11-01|  2|\n",
      "|        005|          103|  Jack Chan| 40|  Male| 60000|2013-04-01|  2|\n",
      "|        018|          104|  Nancy Liu| 29|      | 50000|2017-06-01|  2|\n",
      "|        012|          105| Susan Chen| 31|Female| 54000|2017-02-15|  2|\n",
      "|        015|          106|Michael Lee| 37|  Male| 63000|2014-09-30|  2|\n",
      "|        014|          107|  Emily Lee| 26|Female| 46000|2019-01-01|  2|\n",
      "+-----------+-------------+-----------+---+------+------+----------+---+\n",
      "\n"
     ]
    }
   ],
   "source": [
    "emp_2.where(\"rn = 2\").show()"
   ]
  },
  {
   "cell_type": "code",
   "execution_count": null,
   "id": "ae9994b1-4df4-4b10-a30c-9c27a90c3b01",
   "metadata": {},
   "outputs": [],
   "source": [
    "from pyspark.sql.functions import expr\n",
    "\n",
    "emp_3 = emp.withColumn(\"rn\", \"row_number() over(partition by department_id order by salary desc)\").where("
   ]
  }
 ],
 "metadata": {
  "kernelspec": {
   "display_name": "Python 3 (ipykernel)",
   "language": "python",
   "name": "python3"
  },
  "language_info": {
   "codemirror_mode": {
    "name": "ipython",
    "version": 3
   },
   "file_extension": ".py",
   "mimetype": "text/x-python",
   "name": "python",
   "nbconvert_exporter": "python",
   "pygments_lexer": "ipython3",
   "version": "3.10.16"
  }
 },
 "nbformat": 4,
 "nbformat_minor": 5
}
