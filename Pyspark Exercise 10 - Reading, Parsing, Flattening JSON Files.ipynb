{
 "cells": [
  {
   "cell_type": "code",
   "execution_count": 1,
   "id": "28348f5c-0d4f-4a60-98eb-5418736fa30d",
   "metadata": {},
   "outputs": [
    {
     "data": {
      "text/html": [
       "\n",
       "            <div>\n",
       "                <p><b>SparkSession - in-memory</b></p>\n",
       "                \n",
       "        <div>\n",
       "            <p><b>SparkContext</b></p>\n",
       "\n",
       "            <p><a href=\"http://0bb392cfdb75:4043\">Spark UI</a></p>\n",
       "\n",
       "            <dl>\n",
       "              <dt>Version</dt>\n",
       "                <dd><code>v3.3.0</code></dd>\n",
       "              <dt>Master</dt>\n",
       "                <dd><code>local[*]</code></dd>\n",
       "              <dt>AppName</dt>\n",
       "                <dd><code>Reading and Parsing JSON Files/Data</code></dd>\n",
       "            </dl>\n",
       "        </div>\n",
       "        \n",
       "            </div>\n",
       "        "
      ],
      "text/plain": [
       "<pyspark.sql.session.SparkSession at 0x7f630af558a0>"
      ]
     },
     "execution_count": 1,
     "metadata": {},
     "output_type": "execute_result"
    }
   ],
   "source": [
    "# Spark Session\n",
    "from pyspark.sql import SparkSession\n",
    "\n",
    "spark = (\n",
    "    SparkSession\n",
    "    .builder\n",
    "    .appName(\"Reading and Parsing JSON Files/Data\")\n",
    "    .master(\"local[*]\")\n",
    "    .getOrCreate()\n",
    ")\n",
    "\n",
    "spark"
   ]
  },
  {
   "cell_type": "code",
   "execution_count": 2,
   "id": "c2acc4a0-c9c5-422f-af17-dcdf472da5aa",
   "metadata": {},
   "outputs": [],
   "source": [
    "df_single = spark.read.format(\"json\").load(\"data/input/order_singleline.json\")"
   ]
  },
  {
   "cell_type": "code",
   "execution_count": 3,
   "id": "da9bd35e-0797-4d96-a916-174fc99dcd62",
   "metadata": {},
   "outputs": [
    {
     "name": "stdout",
     "output_type": "stream",
     "text": [
      "root\n",
      " |-- contact: array (nullable = true)\n",
      " |    |-- element: long (containsNull = true)\n",
      " |-- customer_id: string (nullable = true)\n",
      " |-- order_id: string (nullable = true)\n",
      " |-- order_line_items: array (nullable = true)\n",
      " |    |-- element: struct (containsNull = true)\n",
      " |    |    |-- amount: double (nullable = true)\n",
      " |    |    |-- item_id: string (nullable = true)\n",
      " |    |    |-- qty: long (nullable = true)\n",
      "\n"
     ]
    }
   ],
   "source": [
    "df_single.printSchema()"
   ]
  },
  {
   "cell_type": "code",
   "execution_count": 4,
   "id": "0ab53524-ac00-43f5-b7c3-f1eeb3853299",
   "metadata": {},
   "outputs": [
    {
     "name": "stdout",
     "output_type": "stream",
     "text": [
      "+--------------------+-----------+--------+--------------------+\n",
      "|             contact|customer_id|order_id|    order_line_items|\n",
      "+--------------------+-----------+--------+--------------------+\n",
      "|[9000010000, 9000...|       C001|    O101|[{102.45, I001, 6...|\n",
      "+--------------------+-----------+--------+--------------------+\n",
      "\n"
     ]
    }
   ],
   "source": [
    "df_single.show()"
   ]
  },
  {
   "cell_type": "code",
   "execution_count": 5,
   "id": "23ffebea-3cec-40c4-97ca-0a25b09542c0",
   "metadata": {},
   "outputs": [
    {
     "name": "stdout",
     "output_type": "stream",
     "text": [
      "root\n",
      " |-- contact: array (nullable = true)\n",
      " |    |-- element: long (containsNull = true)\n",
      " |-- customer_id: string (nullable = true)\n",
      " |-- order_id: string (nullable = true)\n",
      " |-- order_line_items: array (nullable = true)\n",
      " |    |-- element: struct (containsNull = true)\n",
      " |    |    |-- amount: double (nullable = true)\n",
      " |    |    |-- item_id: string (nullable = true)\n",
      " |    |    |-- qty: long (nullable = true)\n",
      "\n"
     ]
    }
   ],
   "source": [
    "df_multi = spark.read.format(\"json\").option(\"multiLine\", True).load(\"data/input/order_multiline.json\")\n",
    "df_multi.printSchema()"
   ]
  },
  {
   "cell_type": "code",
   "execution_count": 6,
   "id": "5f94a51e-d7bc-4c02-9af5-ee2ebeda41a2",
   "metadata": {},
   "outputs": [
    {
     "name": "stdout",
     "output_type": "stream",
     "text": [
      "+------------------------+-----------+--------+------------------------------------+\n",
      "|contact                 |customer_id|order_id|order_line_items                    |\n",
      "+------------------------+-----------+--------+------------------------------------+\n",
      "|[9000010000, 9000010001]|C001       |O101    |[{102.45, I001, 6}, {2.01, I003, 2}]|\n",
      "+------------------------+-----------+--------+------------------------------------+\n",
      "\n"
     ]
    }
   ],
   "source": [
    "df_multi.show(truncate=False)"
   ]
  },
  {
   "cell_type": "code",
   "execution_count": 7,
   "id": "103f70c8-8f07-4403-b78e-bbb61f735bbb",
   "metadata": {},
   "outputs": [],
   "source": [
    "_schema = \"customer_id string, order_id string, contact array<long>\"\n",
    "\n",
    "df_schema = spark.read.format(\"json\").schema(_schema).load(\"data/input/order_singleline.json\")"
   ]
  },
  {
   "cell_type": "code",
   "execution_count": 8,
   "id": "a4d65222-6107-40c6-a68e-870027323264",
   "metadata": {},
   "outputs": [
    {
     "name": "stdout",
     "output_type": "stream",
     "text": [
      "+-----------+--------+--------------------+\n",
      "|customer_id|order_id|             contact|\n",
      "+-----------+--------+--------------------+\n",
      "|       C001|    O101|[9000010000, 9000...|\n",
      "+-----------+--------+--------------------+\n",
      "\n"
     ]
    }
   ],
   "source": [
    "df_schema.show()"
   ]
  },
  {
   "cell_type": "code",
   "execution_count": 9,
   "id": "e8cc8ade-c47b-4c01-bd19-1a4f615f139b",
   "metadata": {},
   "outputs": [
    {
     "name": "stdout",
     "output_type": "stream",
     "text": [
      "root\n",
      " |-- contact: array (nullable = true)\n",
      " |    |-- element: string (containsNull = true)\n",
      " |-- customer_id: string (nullable = true)\n",
      " |-- order_id: string (nullable = true)\n",
      " |-- order_line_items: array (nullable = true)\n",
      " |    |-- element: struct (containsNull = true)\n",
      " |    |    |-- amount: double (nullable = true)\n",
      " |    |    |-- item_id: string (nullable = true)\n",
      " |    |    |-- qty: long (nullable = true)\n",
      "\n"
     ]
    }
   ],
   "source": [
    "_schema = \"contact array<string>, customer_id string, order_id string, order_line_items array<struct<amount double, item_id string, qty long>>\"\n",
    "df_schema_new = spark.read.format(\"json\").schema(_schema).load(\"data/input/order_singleline.json\")\n",
    "df_schema_new.printSchema()"
   ]
  },
  {
   "cell_type": "code",
   "execution_count": 10,
   "id": "786cae86-985b-44f1-a69f-a364d12532f8",
   "metadata": {},
   "outputs": [
    {
     "name": "stdout",
     "output_type": "stream",
     "text": [
      "+--------------------+-----------+--------+--------------------+\n",
      "|             contact|customer_id|order_id|    order_line_items|\n",
      "+--------------------+-----------+--------+--------------------+\n",
      "|[9000010000, 9000...|       C001|    O101|[{102.45, I001, 6...|\n",
      "+--------------------+-----------+--------+--------------------+\n",
      "\n"
     ]
    }
   ],
   "source": [
    "df_schema_new.show()"
   ]
  },
  {
   "cell_type": "code",
   "execution_count": 13,
   "id": "b6c9a424-62ab-4a3b-9ed5-56a45507f392",
   "metadata": {},
   "outputs": [
    {
     "name": "stdout",
     "output_type": "stream",
     "text": [
      "+-----------------------------------------------------------------------------------------------------------------------------------------------------------------------------------+\n",
      "|value                                                                                                                                                                              |\n",
      "+-----------------------------------------------------------------------------------------------------------------------------------------------------------------------------------+\n",
      "|{\"order_id\":\"O101\",\"customer_id\":\"C001\",\"order_line_items\":[{\"item_id\":\"I001\",\"qty\":6,\"amount\":102.45},{\"item_id\":\"I003\",\"qty\":2,\"amount\":2.01}],\"contact\":[9000010000,9000010001]}|\n",
      "+-----------------------------------------------------------------------------------------------------------------------------------------------------------------------------------+\n",
      "\n"
     ]
    }
   ],
   "source": [
    "df = spark.read.format(\"text\").load(\"data/input/order_singleline.json\")\n",
    "df.show(truncate=False)"
   ]
  },
  {
   "cell_type": "code",
   "execution_count": 15,
   "id": "51879d29-3fef-4905-bf61-866af6b8fe2b",
   "metadata": {},
   "outputs": [
    {
     "name": "stdout",
     "output_type": "stream",
     "text": [
      "root\n",
      " |-- value: string (nullable = true)\n",
      " |-- parsed: struct (nullable = true)\n",
      " |    |-- contact: array (nullable = true)\n",
      " |    |    |-- element: string (containsNull = true)\n",
      " |    |-- customer_id: string (nullable = true)\n",
      " |    |-- order_id: string (nullable = true)\n",
      " |    |-- order_line_items: array (nullable = true)\n",
      " |    |    |-- element: struct (containsNull = true)\n",
      " |    |    |    |-- amount: double (nullable = true)\n",
      " |    |    |    |-- item_id: string (nullable = true)\n",
      " |    |    |    |-- qty: long (nullable = true)\n",
      "\n"
     ]
    }
   ],
   "source": [
    "_schema = \"contact array<string>, customer_id string, order_id string, order_line_items array<struct<amount double, item_id string, qty long>>\"\n",
    "\n",
    "from pyspark.sql.functions import from_json\n",
    "\n",
    "df_expanded = df.withColumn(\"parsed\", from_json(df.value, _schema))\n",
    "df_expanded.printSchema()"
   ]
  },
  {
   "cell_type": "code",
   "execution_count": 16,
   "id": "642c9e76-a7ee-4f32-8cb7-d32b841bdf1d",
   "metadata": {},
   "outputs": [
    {
     "name": "stdout",
     "output_type": "stream",
     "text": [
      "+--------------------+--------------------+\n",
      "|               value|              parsed|\n",
      "+--------------------+--------------------+\n",
      "|{\"order_id\":\"O101...|{[9000010000, 900...|\n",
      "+--------------------+--------------------+\n",
      "\n"
     ]
    }
   ],
   "source": [
    "df_expanded.show()"
   ]
  },
  {
   "cell_type": "code",
   "execution_count": 18,
   "id": "0da22635-c221-4157-938d-b9f49cb9f2d1",
   "metadata": {},
   "outputs": [
    {
     "name": "stdout",
     "output_type": "stream",
     "text": [
      "+---------------------------------------------------------------------------------------------------------------------------------------------------------------------------------------+\n",
      "|unparsed                                                                                                                                                                               |\n",
      "+---------------------------------------------------------------------------------------------------------------------------------------------------------------------------------------+\n",
      "|{\"contact\":[\"9000010000\",\"9000010001\"],\"customer_id\":\"C001\",\"order_id\":\"O101\",\"order_line_items\":[{\"amount\":102.45,\"item_id\":\"I001\",\"qty\":6},{\"amount\":2.01,\"item_id\":\"I003\",\"qty\":2}]}|\n",
      "+---------------------------------------------------------------------------------------------------------------------------------------------------------------------------------------+\n",
      "\n"
     ]
    }
   ],
   "source": [
    "from pyspark.sql.functions import to_json\n",
    "\n",
    "df_unparsed = df_expanded.withColumn(\"unparsed\", to_json(df_expanded.parsed))\n",
    "df_unparsed.select(\"unparsed\").show(truncate=False)"
   ]
  },
  {
   "cell_type": "code",
   "execution_count": 19,
   "id": "9d36590e-2999-46a3-8200-e608c0845b66",
   "metadata": {},
   "outputs": [],
   "source": [
    "df_1 = df_expanded.select(\"parsed.*\")"
   ]
  },
  {
   "cell_type": "code",
   "execution_count": 21,
   "id": "43a6c115-40e3-44c6-bcc6-f6976cf8dc01",
   "metadata": {},
   "outputs": [
    {
     "name": "stdout",
     "output_type": "stream",
     "text": [
      "+--------------------+-----------+--------+--------------------+-------------------+\n",
      "|             contact|customer_id|order_id|    order_line_items|expanded_line_items|\n",
      "+--------------------+-----------+--------+--------------------+-------------------+\n",
      "|[9000010000, 9000...|       C001|    O101|[{102.45, I001, 6...|  {102.45, I001, 6}|\n",
      "|[9000010000, 9000...|       C001|    O101|[{102.45, I001, 6...|    {2.01, I003, 2}|\n",
      "+--------------------+-----------+--------+--------------------+-------------------+\n",
      "\n"
     ]
    }
   ],
   "source": [
    "from pyspark.sql.functions import explode\n",
    "\n",
    "df_2 = df_1.withColumn(\"expanded_line_items\", explode(\"order_line_items\"))\n",
    "df_2.show()"
   ]
  },
  {
   "cell_type": "code",
   "execution_count": 23,
   "id": "b3d14234-3392-48fb-8ce6-429c27dd8b45",
   "metadata": {},
   "outputs": [
    {
     "name": "stdout",
     "output_type": "stream",
     "text": [
      "+--------------------+-----------+--------+------+-------+---+\n",
      "|             contact|customer_id|order_id|amount|item_id|qty|\n",
      "+--------------------+-----------+--------+------+-------+---+\n",
      "|[9000010000, 9000...|       C001|    O101|102.45|   I001|  6|\n",
      "|[9000010000, 9000...|       C001|    O101|  2.01|   I003|  2|\n",
      "+--------------------+-----------+--------+------+-------+---+\n",
      "\n"
     ]
    }
   ],
   "source": [
    "df_3 = df_2.select(\"contact\", \"customer_id\", \"order_id\", \"expanded_line_items.*\")\n",
    "df_3.show()"
   ]
  },
  {
   "cell_type": "code",
   "execution_count": null,
   "id": "b2c75bd4-1b2d-481b-875f-18b6524cebde",
   "metadata": {},
   "outputs": [],
   "source": []
  }
 ],
 "metadata": {
  "kernelspec": {
   "display_name": "Python 3 (ipykernel)",
   "language": "python",
   "name": "python3"
  },
  "language_info": {
   "codemirror_mode": {
    "name": "ipython",
    "version": 3
   },
   "file_extension": ".py",
   "mimetype": "text/x-python",
   "name": "python",
   "nbconvert_exporter": "python",
   "pygments_lexer": "ipython3",
   "version": "3.10.16"
  }
 },
 "nbformat": 4,
 "nbformat_minor": 5
}
