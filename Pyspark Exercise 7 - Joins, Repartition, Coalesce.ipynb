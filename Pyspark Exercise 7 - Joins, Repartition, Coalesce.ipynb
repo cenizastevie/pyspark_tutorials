{
 "cells": [
  {
   "cell_type": "code",
   "execution_count": 2,
   "id": "c10b97ff-ecc0-4f28-908d-97a6d69dcd4a",
   "metadata": {},
   "outputs": [
    {
     "data": {
      "text/html": [
       "\n",
       "            <div>\n",
       "                <p><b>SparkSession - in-memory</b></p>\n",
       "                \n",
       "        <div>\n",
       "            <p><b>SparkContext</b></p>\n",
       "\n",
       "            <p><a href=\"http://0bb392cfdb75:4040\">Spark UI</a></p>\n",
       "\n",
       "            <dl>\n",
       "              <dt>Version</dt>\n",
       "                <dd><code>v3.3.0</code></dd>\n",
       "              <dt>Master</dt>\n",
       "                <dd><code>local[*]</code></dd>\n",
       "              <dt>AppName</dt>\n",
       "                <dd><code>Joins and Data Partitions</code></dd>\n",
       "            </dl>\n",
       "        </div>\n",
       "        \n",
       "            </div>\n",
       "        "
      ],
      "text/plain": [
       "<pyspark.sql.session.SparkSession at 0x7f2354204340>"
      ]
     },
     "execution_count": 2,
     "metadata": {},
     "output_type": "execute_result"
    }
   ],
   "source": [
    "# Spark Session\n",
    "from pyspark.sql import SparkSession\n",
    "\n",
    "spark = (\n",
    "    SparkSession\n",
    "    .builder\n",
    "    .appName(\"Joins and Data Partitions\")\n",
    "    .master(\"local[*]\")\n",
    "    .getOrCreate()\n",
    ")\n",
    "\n",
    "spark"
   ]
  },
  {
   "cell_type": "code",
   "execution_count": 3,
   "id": "72f12ee1-56b8-41f2-884c-7a9e0b3057a8",
   "metadata": {},
   "outputs": [],
   "source": [
    "# Emp Data & Schema\n",
    "\n",
    "emp_data = [\n",
    "    [\"001\",\"101\",\"John Doe\",\"30\",\"Male\",\"50000\",\"2015-01-01\"],\n",
    "    [\"002\",\"101\",\"Jane Smith\",\"25\",\"Female\",\"45000\",\"2016-02-15\"],\n",
    "    [\"003\",\"102\",\"Bob Brown\",\"35\",\"Male\",\"55000\",\"2014-05-01\"],\n",
    "    [\"004\",\"102\",\"Alice Lee\",\"28\",\"Female\",\"48000\",\"2017-09-30\"],\n",
    "    [\"005\",\"103\",\"Jack Chan\",\"40\",\"Male\",\"60000\",\"2013-04-01\"],\n",
    "    [\"006\",\"103\",\"Jill Wong\",\"32\",\"Female\",\"52000\",\"2018-07-01\"],\n",
    "    [\"007\",\"101\",\"James Johnson\",\"42\",\"Male\",\"70000\",\"2012-03-15\"],\n",
    "    [\"008\",\"102\",\"Kate Kim\",\"29\",\"Female\",\"51000\",\"2019-10-01\"],\n",
    "    [\"009\",\"103\",\"Tom Tan\",\"33\",\"Male\",\"58000\",\"2016-06-01\"],\n",
    "    [\"010\",\"104\",\"Lisa Lee\",\"27\",\"Female\",\"47000\",\"2018-08-01\"],\n",
    "    [\"011\",\"104\",\"David Park\",\"38\",\"Male\",\"65000\",\"2015-11-01\"],\n",
    "    [\"012\",\"105\",\"Susan Chen\",\"31\",\"Female\",\"54000\",\"2017-02-15\"],\n",
    "    [\"013\",\"106\",\"Brian Kim\",\"45\",\"Male\",\"75000\",\"2011-07-01\"],\n",
    "    [\"014\",\"107\",\"Emily Lee\",\"26\",\"Female\",\"46000\",\"2019-01-01\"],\n",
    "    [\"015\",\"106\",\"Michael Lee\",\"37\",\"Male\",\"63000\",\"2014-09-30\"],\n",
    "    [\"016\",\"107\",\"Kelly Zhang\",\"30\",\"Female\",\"49000\",\"2018-04-01\"],\n",
    "    [\"017\",\"105\",\"George Wang\",\"34\",\"Male\",\"57000\",\"2016-03-15\"],\n",
    "    [\"018\",\"104\",\"Nancy Liu\",\"29\",\"\",\"50000\",\"2017-06-01\"],\n",
    "    [\"019\",\"103\",\"Steven Chen\",\"36\",\"Male\",\"62000\",\"2015-08-01\"],\n",
    "    [\"020\",\"102\",\"Grace Kim\",\"32\",\"Female\",\"53000\",\"2018-11-01\"]\n",
    "]\n",
    "\n",
    "emp_schema = \"employee_id string, department_id string, name string, age string, gender string, salary string, hire_date string\"\n",
    "\n",
    "dept_data = [\n",
    "    [\"101\", \"Sales\", \"NYC\", \"US\", \"1000000\"],\n",
    "    [\"102\", \"Marketing\", \"LA\", \"US\", \"900000\"],\n",
    "    [\"103\", \"Finance\", \"London\", \"UK\", \"1200000\"],\n",
    "    [\"104\", \"Engineering\", \"Beijing\", \"China\", \"1500000\"],\n",
    "    [\"105\", \"Human Resources\", \"Tokyo\", \"Japan\", \"800000\"],\n",
    "    [\"106\", \"Research and Development\", \"Perth\", \"Australia\", \"1100000\"],\n",
    "    [\"107\", \"Customer Service\", \"Sydney\", \"Australia\", \"950000\"]\n",
    "]\n",
    "\n",
    "dept_schema = \"department_id string, department_name string, city string, country string, budget string\""
   ]
  },
  {
   "cell_type": "code",
   "execution_count": 4,
   "id": "b9d8b830-a9ce-46cb-95ba-c2fdc8dc3c8c",
   "metadata": {},
   "outputs": [],
   "source": [
    "# Create emp & dept DataFrame\n",
    "\n",
    "emp = spark.createDataFrame(data=emp_data, schema=emp_schema)\n",
    "dept = spark.createDataFrame(data=dept_data, schema=dept_schema)"
   ]
  },
  {
   "cell_type": "code",
   "execution_count": 6,
   "id": "4cac65b7-710e-4d58-ad53-05327363691c",
   "metadata": {},
   "outputs": [
    {
     "name": "stdout",
     "output_type": "stream",
     "text": [
      "+-----------+-------------+-------------+---+------+------+----------+\n",
      "|employee_id|department_id|         name|age|gender|salary| hire_date|\n",
      "+-----------+-------------+-------------+---+------+------+----------+\n",
      "|        001|          101|     John Doe| 30|  Male| 50000|2015-01-01|\n",
      "|        002|          101|   Jane Smith| 25|Female| 45000|2016-02-15|\n",
      "|        003|          102|    Bob Brown| 35|  Male| 55000|2014-05-01|\n",
      "|        004|          102|    Alice Lee| 28|Female| 48000|2017-09-30|\n",
      "|        005|          103|    Jack Chan| 40|  Male| 60000|2013-04-01|\n",
      "|        006|          103|    Jill Wong| 32|Female| 52000|2018-07-01|\n",
      "|        007|          101|James Johnson| 42|  Male| 70000|2012-03-15|\n",
      "|        008|          102|     Kate Kim| 29|Female| 51000|2019-10-01|\n",
      "|        009|          103|      Tom Tan| 33|  Male| 58000|2016-06-01|\n",
      "|        010|          104|     Lisa Lee| 27|Female| 47000|2018-08-01|\n",
      "|        011|          104|   David Park| 38|  Male| 65000|2015-11-01|\n",
      "|        012|          105|   Susan Chen| 31|Female| 54000|2017-02-15|\n",
      "|        013|          106|    Brian Kim| 45|  Male| 75000|2011-07-01|\n",
      "|        014|          107|    Emily Lee| 26|Female| 46000|2019-01-01|\n",
      "|        015|          106|  Michael Lee| 37|  Male| 63000|2014-09-30|\n",
      "|        016|          107|  Kelly Zhang| 30|Female| 49000|2018-04-01|\n",
      "|        017|          105|  George Wang| 34|  Male| 57000|2016-03-15|\n",
      "|        018|          104|    Nancy Liu| 29|      | 50000|2017-06-01|\n",
      "|        019|          103|  Steven Chen| 36|  Male| 62000|2015-08-01|\n",
      "|        020|          102|    Grace Kim| 32|Female| 53000|2018-11-01|\n",
      "+-----------+-------------+-------------+---+------+------+----------+\n",
      "\n",
      "+-------------+--------------------+-------+---------+-------+\n",
      "|department_id|     department_name|   city|  country| budget|\n",
      "+-------------+--------------------+-------+---------+-------+\n",
      "|          101|               Sales|    NYC|       US|1000000|\n",
      "|          102|           Marketing|     LA|       US| 900000|\n",
      "|          103|             Finance| London|       UK|1200000|\n",
      "|          104|         Engineering|Beijing|    China|1500000|\n",
      "|          105|     Human Resources|  Tokyo|    Japan| 800000|\n",
      "|          106|Research and Deve...|  Perth|Australia|1100000|\n",
      "|          107|    Customer Service| Sydney|Australia| 950000|\n",
      "+-------------+--------------------+-------+---------+-------+\n",
      "\n"
     ]
    }
   ],
   "source": [
    "# Show emp dataframe (ACTION)\n",
    "\n",
    "emp.show()\n",
    "dept.show()"
   ]
  },
  {
   "cell_type": "code",
   "execution_count": 7,
   "id": "5f60d8fa-6135-4977-8d01-7888fb875b40",
   "metadata": {},
   "outputs": [
    {
     "data": {
      "text/plain": [
       "16"
      ]
     },
     "execution_count": 7,
     "metadata": {},
     "output_type": "execute_result"
    }
   ],
   "source": [
    "emp.rdd.getNumPartitions()"
   ]
  },
  {
   "cell_type": "code",
   "execution_count": 8,
   "id": "e6720740-e299-4bbb-8543-6e9e03162ea9",
   "metadata": {},
   "outputs": [],
   "source": [
    "emp_partioned = emp.repartition(100)"
   ]
  },
  {
   "cell_type": "code",
   "execution_count": 9,
   "id": "8e43c208-faa9-4e90-83d9-da69292f5a8e",
   "metadata": {},
   "outputs": [
    {
     "data": {
      "text/plain": [
       "100"
      ]
     },
     "execution_count": 9,
     "metadata": {},
     "output_type": "execute_result"
    }
   ],
   "source": [
    "emp_partioned.rdd.getNumPartitions()"
   ]
  },
  {
   "cell_type": "code",
   "execution_count": 10,
   "id": "8dc04119-c843-4c0f-a989-e7e370ab86bf",
   "metadata": {},
   "outputs": [],
   "source": [
    "emp_partitioned = emp.coalesce(100)"
   ]
  },
  {
   "cell_type": "code",
   "execution_count": 12,
   "id": "485904a5-1798-4598-9c5d-ec252ec38890",
   "metadata": {},
   "outputs": [
    {
     "data": {
      "text/plain": [
       "16"
      ]
     },
     "execution_count": 12,
     "metadata": {},
     "output_type": "execute_result"
    }
   ],
   "source": [
    "emp_partitioned.rdd.getNumPartitions()"
   ]
  },
  {
   "cell_type": "code",
   "execution_count": 13,
   "id": "23326933-d79c-4566-af28-c1dfe462026d",
   "metadata": {},
   "outputs": [
    {
     "name": "stdout",
     "output_type": "stream",
     "text": [
      "+-----------+-------------+-------------+---+------+------+----------+-------------+\n",
      "|employee_id|department_id|         name|age|gender|salary| hire_date|partition_num|\n",
      "+-----------+-------------+-------------+---+------+------+----------+-------------+\n",
      "|        001|          101|     John Doe| 30|  Male| 50000|2015-01-01|            0|\n",
      "|        002|          101|   Jane Smith| 25|Female| 45000|2016-02-15|            1|\n",
      "|        003|          102|    Bob Brown| 35|  Male| 55000|2014-05-01|            2|\n",
      "|        004|          102|    Alice Lee| 28|Female| 48000|2017-09-30|            3|\n",
      "|        005|          103|    Jack Chan| 40|  Male| 60000|2013-04-01|            3|\n",
      "|        006|          103|    Jill Wong| 32|Female| 52000|2018-07-01|            4|\n",
      "|        007|          101|James Johnson| 42|  Male| 70000|2012-03-15|            5|\n",
      "|        008|          102|     Kate Kim| 29|Female| 51000|2019-10-01|            6|\n",
      "|        009|          103|      Tom Tan| 33|  Male| 58000|2016-06-01|            7|\n",
      "|        010|          104|     Lisa Lee| 27|Female| 47000|2018-08-01|            7|\n",
      "|        011|          104|   David Park| 38|  Male| 65000|2015-11-01|            8|\n",
      "|        012|          105|   Susan Chen| 31|Female| 54000|2017-02-15|            9|\n",
      "|        013|          106|    Brian Kim| 45|  Male| 75000|2011-07-01|           10|\n",
      "|        014|          107|    Emily Lee| 26|Female| 46000|2019-01-01|           11|\n",
      "|        015|          106|  Michael Lee| 37|  Male| 63000|2014-09-30|           11|\n",
      "|        016|          107|  Kelly Zhang| 30|Female| 49000|2018-04-01|           12|\n",
      "|        017|          105|  George Wang| 34|  Male| 57000|2016-03-15|           13|\n",
      "|        018|          104|    Nancy Liu| 29|      | 50000|2017-06-01|           14|\n",
      "|        019|          103|  Steven Chen| 36|  Male| 62000|2015-08-01|           15|\n",
      "|        020|          102|    Grace Kim| 32|Female| 53000|2018-11-01|           15|\n",
      "+-----------+-------------+-------------+---+------+------+----------+-------------+\n",
      "\n"
     ]
    }
   ],
   "source": [
    "from pyspark.sql.functions import spark_partition_id\n",
    "\n",
    "emp_1 = emp.withColumn(\"partition_num\", spark_partition_id())\n",
    "emp_1.show()"
   ]
  },
  {
   "cell_type": "code",
   "execution_count": 14,
   "id": "ba852bfa-b42d-4a26-85df-959dee1bb817",
   "metadata": {},
   "outputs": [
    {
     "name": "stdout",
     "output_type": "stream",
     "text": [
      "+-----------+-------------+-------------+---+------+------+----------+-------------+\n",
      "|employee_id|department_id|         name|age|gender|salary| hire_date|partition_num|\n",
      "+-----------+-------------+-------------+---+------+------+----------+-------------+\n",
      "|        003|          102|    Bob Brown| 35|  Male| 55000|2014-05-01|            0|\n",
      "|        004|          102|    Alice Lee| 28|Female| 48000|2017-09-30|            0|\n",
      "|        008|          102|     Kate Kim| 29|Female| 51000|2019-10-01|            0|\n",
      "|        014|          107|    Emily Lee| 26|Female| 46000|2019-01-01|            0|\n",
      "|        016|          107|  Kelly Zhang| 30|Female| 49000|2018-04-01|            0|\n",
      "|        020|          102|    Grace Kim| 32|Female| 53000|2018-11-01|            0|\n",
      "|        012|          105|   Susan Chen| 31|Female| 54000|2017-02-15|            1|\n",
      "|        017|          105|  George Wang| 34|  Male| 57000|2016-03-15|            1|\n",
      "|        010|          104|     Lisa Lee| 27|Female| 47000|2018-08-01|            2|\n",
      "|        011|          104|   David Park| 38|  Male| 65000|2015-11-01|            2|\n",
      "|        013|          106|    Brian Kim| 45|  Male| 75000|2011-07-01|            2|\n",
      "|        015|          106|  Michael Lee| 37|  Male| 63000|2014-09-30|            2|\n",
      "|        018|          104|    Nancy Liu| 29|      | 50000|2017-06-01|            2|\n",
      "|        001|          101|     John Doe| 30|  Male| 50000|2015-01-01|            3|\n",
      "|        002|          101|   Jane Smith| 25|Female| 45000|2016-02-15|            3|\n",
      "|        005|          103|    Jack Chan| 40|  Male| 60000|2013-04-01|            3|\n",
      "|        006|          103|    Jill Wong| 32|Female| 52000|2018-07-01|            3|\n",
      "|        007|          101|James Johnson| 42|  Male| 70000|2012-03-15|            3|\n",
      "|        009|          103|      Tom Tan| 33|  Male| 58000|2016-06-01|            3|\n",
      "|        019|          103|  Steven Chen| 36|  Male| 62000|2015-08-01|            3|\n",
      "+-----------+-------------+-------------+---+------+------+----------+-------------+\n",
      "\n"
     ]
    }
   ],
   "source": [
    "emp_1 = emp.repartition(4, \"department_id\").withColumn(\"partition_num\", spark_partition_id())\n",
    "emp_1.show()"
   ]
  },
  {
   "cell_type": "code",
   "execution_count": 15,
   "id": "04486ab5-4a2a-4e59-b5ea-4ea87519660a",
   "metadata": {},
   "outputs": [],
   "source": [
    "df_joined = emp.join(dept, how=\"inner\", on=emp.department_id==dept.department_id)"
   ]
  },
  {
   "cell_type": "code",
   "execution_count": 17,
   "id": "9b4d4a8a-3baa-4311-abca-c553b4cd8793",
   "metadata": {},
   "outputs": [
    {
     "name": "stdout",
     "output_type": "stream",
     "text": [
      "+-------------+-------------+--------------------+------+\n",
      "|         name|department_id|     department_name|salary|\n",
      "+-------------+-------------+--------------------+------+\n",
      "|     John Doe|          101|               Sales| 50000|\n",
      "|   Jane Smith|          101|               Sales| 45000|\n",
      "|James Johnson|          101|               Sales| 70000|\n",
      "|    Bob Brown|          102|           Marketing| 55000|\n",
      "|    Alice Lee|          102|           Marketing| 48000|\n",
      "|     Kate Kim|          102|           Marketing| 51000|\n",
      "|    Grace Kim|          102|           Marketing| 53000|\n",
      "|    Jack Chan|          103|             Finance| 60000|\n",
      "|    Jill Wong|          103|             Finance| 52000|\n",
      "|      Tom Tan|          103|             Finance| 58000|\n",
      "|  Steven Chen|          103|             Finance| 62000|\n",
      "|     Lisa Lee|          104|         Engineering| 47000|\n",
      "|   David Park|          104|         Engineering| 65000|\n",
      "|    Nancy Liu|          104|         Engineering| 50000|\n",
      "|   Susan Chen|          105|     Human Resources| 54000|\n",
      "|  George Wang|          105|     Human Resources| 57000|\n",
      "|    Brian Kim|          106|Research and Deve...| 75000|\n",
      "|  Michael Lee|          106|Research and Deve...| 63000|\n",
      "|    Emily Lee|          107|    Customer Service| 46000|\n",
      "|  Kelly Zhang|          107|    Customer Service| 49000|\n",
      "+-------------+-------------+--------------------+------+\n",
      "\n"
     ]
    }
   ],
   "source": [
    "df_joined.select(emp.name,dept.department_id, dept.department_name, emp.salary).show()"
   ]
  },
  {
   "cell_type": "code",
   "execution_count": 18,
   "id": "ac5722db-8214-4ebd-bae9-d1eda16333d2",
   "metadata": {},
   "outputs": [
    {
     "name": "stdout",
     "output_type": "stream",
     "text": [
      "+-------------+-------------+--------------------+------+\n",
      "|         name|department_id|     department_name|salary|\n",
      "+-------------+-------------+--------------------+------+\n",
      "|     John Doe|          101|               Sales| 50000|\n",
      "|   Jane Smith|          101|               Sales| 45000|\n",
      "|James Johnson|          101|               Sales| 70000|\n",
      "|    Bob Brown|          102|           Marketing| 55000|\n",
      "|    Alice Lee|          102|           Marketing| 48000|\n",
      "|     Kate Kim|          102|           Marketing| 51000|\n",
      "|    Grace Kim|          102|           Marketing| 53000|\n",
      "|    Jack Chan|          103|             Finance| 60000|\n",
      "|    Jill Wong|          103|             Finance| 52000|\n",
      "|      Tom Tan|          103|             Finance| 58000|\n",
      "|  Steven Chen|          103|             Finance| 62000|\n",
      "|     Lisa Lee|          104|         Engineering| 47000|\n",
      "|   David Park|          104|         Engineering| 65000|\n",
      "|    Nancy Liu|          104|         Engineering| 50000|\n",
      "|   Susan Chen|          105|     Human Resources| 54000|\n",
      "|  George Wang|          105|     Human Resources| 57000|\n",
      "|    Brian Kim|          106|Research and Deve...| 75000|\n",
      "|  Michael Lee|          106|Research and Deve...| 63000|\n",
      "|    Emily Lee|          107|    Customer Service| 46000|\n",
      "|  Kelly Zhang|          107|    Customer Service| 49000|\n",
      "+-------------+-------------+--------------------+------+\n",
      "\n"
     ]
    }
   ],
   "source": [
    "df_joined = emp.alias(\"e\").join(dept.alias(\"d\"), how=\"inner\", on=emp.department_id==dept.department_id)\n",
    "df_joined.select(\"e.name\", \"d.department_id\", \"d.department_name\", \"e.salary\").show()"
   ]
  },
  {
   "cell_type": "code",
   "execution_count": 19,
   "id": "6a90258f-79db-484a-a987-a35615d48710",
   "metadata": {},
   "outputs": [
    {
     "name": "stdout",
     "output_type": "stream",
     "text": [
      "+-------------+-------------+--------------------+------+\n",
      "|         name|department_id|     department_name|salary|\n",
      "+-------------+-------------+--------------------+------+\n",
      "|     John Doe|          101|               Sales| 50000|\n",
      "|   Jane Smith|          101|               Sales| 45000|\n",
      "|    Bob Brown|          102|           Marketing| 55000|\n",
      "|    Alice Lee|          102|           Marketing| 48000|\n",
      "|    Jack Chan|          103|             Finance| 60000|\n",
      "|    Jill Wong|          103|             Finance| 52000|\n",
      "|James Johnson|          101|               Sales| 70000|\n",
      "|     Kate Kim|          102|           Marketing| 51000|\n",
      "|     Lisa Lee|          104|         Engineering| 47000|\n",
      "|      Tom Tan|          103|             Finance| 58000|\n",
      "|   David Park|          104|         Engineering| 65000|\n",
      "|   Susan Chen|          105|     Human Resources| 54000|\n",
      "|    Brian Kim|          106|Research and Deve...| 75000|\n",
      "|    Emily Lee|          107|    Customer Service| 46000|\n",
      "|  Michael Lee|          106|Research and Deve...| 63000|\n",
      "|  Kelly Zhang|          107|    Customer Service| 49000|\n",
      "|  George Wang|          105|     Human Resources| 57000|\n",
      "|    Nancy Liu|          104|         Engineering| 50000|\n",
      "|    Grace Kim|          102|           Marketing| 53000|\n",
      "|  Steven Chen|          103|             Finance| 62000|\n",
      "+-------------+-------------+--------------------+------+\n",
      "\n"
     ]
    }
   ],
   "source": [
    "df_joined = emp.alias(\"e\").join(dept.alias(\"d\"), how=\"left_outer\", on=emp.department_id==dept.department_id)\n",
    "df_joined.select(\"e.name\", \"d.department_id\", \"d.department_name\", \"e.salary\").show()"
   ]
  },
  {
   "cell_type": "code",
   "execution_count": 25,
   "id": "26a9c0ee-c620-46c0-b927-aca83a632130",
   "metadata": {},
   "outputs": [
    {
     "name": "stdout",
     "output_type": "stream",
     "text": [
      "+-------------+-------------+---------------+------+\n",
      "|         name|department_id|department_name|salary|\n",
      "+-------------+-------------+---------------+------+\n",
      "|     John Doe|          101|          Sales| 50000|\n",
      "|   Jane Smith|          101|          Sales| 45000|\n",
      "|    Bob Brown|          102|      Marketing| 55000|\n",
      "|    Alice Lee|          102|      Marketing| 48000|\n",
      "|    Jack Chan|         null|           null| 60000|\n",
      "|    Jill Wong|         null|           null| 52000|\n",
      "|James Johnson|          101|          Sales| 70000|\n",
      "|     Kate Kim|          102|      Marketing| 51000|\n",
      "|     Lisa Lee|         null|           null| 47000|\n",
      "|      Tom Tan|         null|           null| 58000|\n",
      "|   David Park|         null|           null| 65000|\n",
      "|   Susan Chen|         null|           null| 54000|\n",
      "|    Brian Kim|         null|           null| 75000|\n",
      "|    Emily Lee|         null|           null| 46000|\n",
      "|  Michael Lee|         null|           null| 63000|\n",
      "|  Kelly Zhang|         null|           null| 49000|\n",
      "|  George Wang|         null|           null| 57000|\n",
      "|    Nancy Liu|         null|           null| 50000|\n",
      "|    Grace Kim|          102|      Marketing| 53000|\n",
      "|  Steven Chen|         null|           null| 62000|\n",
      "+-------------+-------------+---------------+------+\n",
      "\n"
     ]
    }
   ],
   "source": [
    "df_joined = emp.join(dept, how=\"left_outer\", \n",
    "                                on=(emp.department_id==dept.department_id) \n",
    "                                 & ((emp.department_id == \"101\") | (emp.department_id == \"102\"))\n",
    "                                 & (emp.salary.isNotNull())\n",
    ")\n",
    "df_joined.select(emp.name,dept.department_id, dept.department_name, emp.salary).show()"
   ]
  },
  {
   "cell_type": "code",
   "execution_count": null,
   "id": "6b599cb7-c7b4-439b-bd7e-bda24721ea6a",
   "metadata": {},
   "outputs": [],
   "source": []
  }
 ],
 "metadata": {
  "kernelspec": {
   "display_name": "Python 3 (ipykernel)",
   "language": "python",
   "name": "python3"
  },
  "language_info": {
   "codemirror_mode": {
    "name": "ipython",
    "version": 3
   },
   "file_extension": ".py",
   "mimetype": "text/x-python",
   "name": "python",
   "nbconvert_exporter": "python",
   "pygments_lexer": "ipython3",
   "version": "3.10.16"
  }
 },
 "nbformat": 4,
 "nbformat_minor": 5
}
