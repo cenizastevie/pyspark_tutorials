{
 "cells": [
  {
   "cell_type": "code",
   "execution_count": 6,
   "id": "0b7b8a59-10c9-4164-a11f-f0b57d745f57",
   "metadata": {},
   "outputs": [
    {
     "data": {
      "text/html": [
       "\n",
       "            <div>\n",
       "                <p><b>SparkSession - in-memory</b></p>\n",
       "                \n",
       "        <div>\n",
       "            <p><b>SparkContext</b></p>\n",
       "\n",
       "            <p><a href=\"http://0bb392cfdb75:4042\">Spark UI</a></p>\n",
       "\n",
       "            <dl>\n",
       "              <dt>Version</dt>\n",
       "                <dd><code>v3.3.0</code></dd>\n",
       "              <dt>Master</dt>\n",
       "                <dd><code>local[*]</code></dd>\n",
       "              <dt>AppName</dt>\n",
       "                <dd><code>Reading Complex Data Formats</code></dd>\n",
       "            </dl>\n",
       "        </div>\n",
       "        \n",
       "            </div>\n",
       "        "
      ],
      "text/plain": [
       "<pyspark.sql.session.SparkSession at 0x7f59caba98a0>"
      ]
     },
     "execution_count": 6,
     "metadata": {},
     "output_type": "execute_result"
    }
   ],
   "source": [
    "# Spark Session\n",
    "from pyspark.sql import SparkSession\n",
    "\n",
    "spark = (\n",
    "    SparkSession\n",
    "    .builder\n",
    "    .appName(\"Reading Complex Data Formats\")\n",
    "    .master(\"local[*]\")\n",
    "    .getOrCreate()\n",
    ")\n",
    "\n",
    "spark"
   ]
  },
  {
   "cell_type": "code",
   "execution_count": 7,
   "id": "1da86f05-8e1f-46c2-8e22-ea4a91d1d7b2",
   "metadata": {},
   "outputs": [],
   "source": [
    "df_parquet = spark.read.format(\"parquet\").load(\"data/input/sales_total_parquet/*.parquet\")"
   ]
  },
  {
   "cell_type": "code",
   "execution_count": 9,
   "id": "b6de4bde-a634-4ed8-bf06-cb45e8d84a4e",
   "metadata": {},
   "outputs": [
    {
     "name": "stdout",
     "output_type": "stream",
     "text": [
      "root\n",
      " |-- transacted_at: timestamp (nullable = true)\n",
      " |-- trx_id: integer (nullable = true)\n",
      " |-- retailer_id: integer (nullable = true)\n",
      " |-- description: string (nullable = true)\n",
      " |-- amount: double (nullable = true)\n",
      " |-- city_id: integer (nullable = true)\n",
      "\n"
     ]
    }
   ],
   "source": [
    "df_parquet.printSchema()"
   ]
  },
  {
   "cell_type": "code",
   "execution_count": 10,
   "id": "52cdecf6-9662-4b25-9e1d-2c4174dfa153",
   "metadata": {},
   "outputs": [
    {
     "name": "stdout",
     "output_type": "stream",
     "text": [
      "+-------------------+----------+-----------+--------------------+-------+----------+\n",
      "|      transacted_at|    trx_id|retailer_id|         description| amount|   city_id|\n",
      "+-------------------+----------+-----------+--------------------+-------+----------+\n",
      "|2017-12-20 20:00:00| 561803551| 2077350195|Walgreen  ccd id:...|  69.66| 350411713|\n",
      "|2017-12-10 22:00:00| 966498100| 1232435973|Toys R Us   ccd i...|  16.44|1554564545|\n",
      "|2017-12-19 17:00:00|  40380012| 1898522855|Target   arc id: ...|2854.84| 920189167|\n",
      "|2017-12-19 19:00:00|1735489522|  847200066|unkn     ccd id: ...| 280.31|2011632272|\n",
      "|2017-01-11 14:00:00|1513345631| 1953761884|Home Depot   arc ...|  20.51|1528300441|\n",
      "|2017-12-24 23:00:00| 884145953| 2001148981|Costco  ccd id: 4...|  11.75|2116046074|\n",
      "|2017-05-14 19:00:00|1003554030| 1903529855|                unkn|  61.76|1710668653|\n",
      "|2017-12-24 19:00:00| 921164309|  847200066|unkn   ppd id: 95...|  27.83|2074005445|\n",
      "|2017-12-16 17:00:00| 549217139| 1070485878|          Amazon.com|  12.21| 516488916|\n",
      "|2017-11-26 19:00:00| 719363881|  847200066|unkn     ccd id: ...|  67.32|2055198208|\n",
      "|2017-12-09 18:00:00|  85469564|  151850986|unkn    arc id: 1...| 383.43| 675146248|\n",
      "|2017-11-28 21:00:00| 634593938| 2001148981|              Costco|1663.99|2031527420|\n",
      "|2017-12-22 18:00:00| 425891861| 1817581369|unkn     arc id: ...|   17.0|2065205159|\n",
      "|2017-12-18 12:00:00|1524523277|  860355551|   Sonic       12-19|   0.93|1410131357|\n",
      "|2017-08-30 18:00:00| 348239856| 1768219832|unkn     arc id: ...|  40.35| 481821583|\n",
      "|2017-11-23 20:00:00|1818459158| 1232435973|Toys R Us     arc...| 2472.7| 814348903|\n",
      "|2017-12-04 13:00:00| 389577000| 1647858807|Verizon Wireless ...|   71.9|1439918695|\n",
      "|2017-11-26 12:00:00|1096904243|  865681996|Nordstrom   ccd i...| 1666.2|1107275933|\n",
      "|2017-12-24 21:00:00| 442311947|  400404203|  CVS       Ashgabat|   0.73| 957346984|\n",
      "|2017-12-21 13:00:00|1124093234| 1076023740|Aldi  ccd id: 543...|  25.97|1296036143|\n",
      "+-------------------+----------+-----------+--------------------+-------+----------+\n",
      "only showing top 20 rows\n",
      "\n"
     ]
    }
   ],
   "source": [
    "df_parquet.show()"
   ]
  },
  {
   "cell_type": "code",
   "execution_count": 12,
   "id": "c47b945a-8e36-4a71-aaee-ee16dbaa8d50",
   "metadata": {},
   "outputs": [
    {
     "name": "stdout",
     "output_type": "stream",
     "text": [
      "root\n",
      " |-- transacted_at: timestamp (nullable = true)\n",
      " |-- trx_id: integer (nullable = true)\n",
      " |-- retailer_id: integer (nullable = true)\n",
      " |-- description: string (nullable = true)\n",
      " |-- amount: double (nullable = true)\n",
      " |-- city_id: integer (nullable = true)\n",
      "\n"
     ]
    }
   ],
   "source": [
    "df_orc = spark.read.format(\"orc\").load(\"data/input/sales_total_orc/*.orc\")\n",
    "df_orc.printSchema()"
   ]
  },
  {
   "cell_type": "code",
   "execution_count": 13,
   "id": "823be183-452f-46ce-9130-18f0424b0196",
   "metadata": {},
   "outputs": [
    {
     "name": "stdout",
     "output_type": "stream",
     "text": [
      "+-------------------+----------+-----------+--------------------+-------+----------+\n",
      "|      transacted_at|    trx_id|retailer_id|         description| amount|   city_id|\n",
      "+-------------------+----------+-----------+--------------------+-------+----------+\n",
      "|2017-12-20 20:00:00| 561803551| 2077350195|Walgreen  ccd id:...|  69.66| 350411713|\n",
      "|2017-12-10 22:00:00| 966498100| 1232435973|Toys R Us   ccd i...|  16.44|1554564545|\n",
      "|2017-12-19 17:00:00|  40380012| 1898522855|Target   arc id: ...|2854.84| 920189167|\n",
      "|2017-12-19 19:00:00|1735489522|  847200066|unkn     ccd id: ...| 280.31|2011632272|\n",
      "|2017-01-11 14:00:00|1513345631| 1953761884|Home Depot   arc ...|  20.51|1528300441|\n",
      "|2017-12-24 23:00:00| 884145953| 2001148981|Costco  ccd id: 4...|  11.75|2116046074|\n",
      "|2017-05-14 19:00:00|1003554030| 1903529855|                unkn|  61.76|1710668653|\n",
      "|2017-12-24 19:00:00| 921164309|  847200066|unkn   ppd id: 95...|  27.83|2074005445|\n",
      "|2017-12-16 17:00:00| 549217139| 1070485878|          Amazon.com|  12.21| 516488916|\n",
      "|2017-11-26 19:00:00| 719363881|  847200066|unkn     ccd id: ...|  67.32|2055198208|\n",
      "|2017-12-09 18:00:00|  85469564|  151850986|unkn    arc id: 1...| 383.43| 675146248|\n",
      "|2017-11-28 21:00:00| 634593938| 2001148981|              Costco|1663.99|2031527420|\n",
      "|2017-12-22 18:00:00| 425891861| 1817581369|unkn     arc id: ...|   17.0|2065205159|\n",
      "|2017-12-18 12:00:00|1524523277|  860355551|   Sonic       12-19|   0.93|1410131357|\n",
      "|2017-08-30 18:00:00| 348239856| 1768219832|unkn     arc id: ...|  40.35| 481821583|\n",
      "|2017-11-23 20:00:00|1818459158| 1232435973|Toys R Us     arc...| 2472.7| 814348903|\n",
      "|2017-12-04 13:00:00| 389577000| 1647858807|Verizon Wireless ...|   71.9|1439918695|\n",
      "|2017-11-26 12:00:00|1096904243|  865681996|Nordstrom   ccd i...| 1666.2|1107275933|\n",
      "|2017-12-24 21:00:00| 442311947|  400404203|  CVS       Ashgabat|   0.73| 957346984|\n",
      "|2017-12-21 13:00:00|1124093234| 1076023740|Aldi  ccd id: 543...|  25.97|1296036143|\n",
      "+-------------------+----------+-----------+--------------------+-------+----------+\n",
      "only showing top 20 rows\n",
      "\n"
     ]
    }
   ],
   "source": [
    "df_orc.show()"
   ]
  },
  {
   "cell_type": "code",
   "execution_count": 14,
   "id": "5bc58328-57a1-46fe-a208-18069bd35cdf",
   "metadata": {},
   "outputs": [],
   "source": [
    "import time\n",
    "\n",
    "def get_time(func):\n",
    "    def inner_get_time() -> str:\n",
    "        start_time = time.time()\n",
    "        func()\n",
    "        end_time = time.time()\n",
    "        return (f\"Execution time: {(end_time - start_time)*1000} ms\")\n",
    "    print(inner_get_time())"
   ]
  },
  {
   "cell_type": "code",
   "execution_count": 15,
   "id": "1fe5b4a8-a375-4e8e-b2d8-a23d12754ad3",
   "metadata": {},
   "outputs": [
    {
     "name": "stdout",
     "output_type": "stream",
     "text": [
      "Execution time: 583.8000774383545 ms\n"
     ]
    }
   ],
   "source": [
    "@get_time\n",
    "def x():\n",
    "    df = spark.read.format(\"parquet\").load(\"data/input/sales_data.parquet\")\n",
    "    df.count()"
   ]
  },
  {
   "cell_type": "code",
   "execution_count": 16,
   "id": "1577f90b-eb17-47bb-9bb0-b96d20a2d775",
   "metadata": {},
   "outputs": [
    {
     "name": "stdout",
     "output_type": "stream",
     "text": [
      "Execution time: 220.10350227355957 ms\n"
     ]
    }
   ],
   "source": [
    "@get_time\n",
    "def x():\n",
    "    df = spark.read.format(\"parquet\").load(\"data/input/sales_data.parquet\")\n",
    "    df.select(\"trx_id\").count()"
   ]
  },
  {
   "cell_type": "code",
   "execution_count": 25,
   "id": "8189c093-30ba-407d-8dd0-ff3adc2feec1",
   "metadata": {},
   "outputs": [
    {
     "name": "stdout",
     "output_type": "stream",
     "text": [
      "Execution time: 1225.189447402954 ms\n"
     ]
    }
   ],
   "source": [
    "@get_time\n",
    "def x():\n",
    "    df = spark.read.format(\"csv\").option(\"header\", True).option(\"inferSchema\", True).load(\"data/input/sales.csv\")\n",
    "    df.select(\"trx_id\").count()"
   ]
  }
 ],
 "metadata": {
  "kernelspec": {
   "display_name": "Python 3 (ipykernel)",
   "language": "python",
   "name": "python3"
  },
  "language_info": {
   "codemirror_mode": {
    "name": "ipython",
    "version": 3
   },
   "file_extension": ".py",
   "mimetype": "text/x-python",
   "name": "python",
   "nbconvert_exporter": "python",
   "pygments_lexer": "ipython3",
   "version": "3.10.16"
  }
 },
 "nbformat": 4,
 "nbformat_minor": 5
}
