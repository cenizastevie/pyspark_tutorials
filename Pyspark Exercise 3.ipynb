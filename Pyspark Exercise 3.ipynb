{
 "cells": [
  {
   "cell_type": "code",
   "execution_count": 1,
   "id": "cf64b49d-561a-42f7-ba43-5a1deb21ef15",
   "metadata": {},
   "outputs": [],
   "source": [
    "from pyspark.sql import SparkSession\n",
    "\n",
    "spark = (\n",
    "    SparkSession\n",
    "    .builder\n",
    "    .appName(\"Spark Introduction\")\n",
    "    .master(\"local[*]\")\n",
    "    .getOrCreate()\n",
    ")"
   ]
  },
  {
   "cell_type": "code",
   "execution_count": 2,
   "id": "ae237ff2-f2c4-4957-b17c-f62a55c48dae",
   "metadata": {},
   "outputs": [],
   "source": [
    "emp_data = [\n",
    "    [\"001\",\"101\",\"John Doe\",\"30\",\"Male\",\"50000\",\"2015-01-01\"],\n",
    "    [\"002\",\"101\",\"Jane Smith\",\"25\",\"Female\",\"45000\",\"2016-02-15\"],\n",
    "    [\"003\",\"102\",\"Bob Brown\",\"35\",\"Male\",\"55000\",\"2014-05-01\"],\n",
    "    [\"004\",\"102\",\"Alice Lee\",\"28\",\"Female\",\"48000\",\"2017-09-30\"],\n",
    "    [\"005\",\"103\",\"Jack Chan\",\"40\",\"Male\",\"60000\",\"2013-04-01\"],\n",
    "    [\"006\",\"103\",\"Jill Wong\",\"32\",\"Female\",\"52000\",\"2018-07-01\"],\n",
    "    [\"007\",\"101\",\"James Johnson\",\"42\",\"Male\",\"70000\",\"2012-03-15\"],\n",
    "    [\"008\",\"102\",\"Kate Kim\",\"29\",\"Female\",\"51000\",\"2019-10-01\"],\n",
    "    [\"009\",\"103\",\"Tom Tan\",\"33\",\"Male\",\"58000\",\"2016-06-01\"],\n",
    "    [\"010\",\"104\",\"Lisa Lee\",\"27\",\"Female\",\"47000\",\"2018-08-01\"],\n",
    "    [\"011\",\"104\",\"David Park\",\"38\",\"Male\",\"65000\",\"2015-11-01\"],\n",
    "    [\"012\",\"105\",\"Susan Chen\",\"31\",\"Female\",\"54000\",\"2017-02-15\"],\n",
    "    [\"013\",\"106\",\"Brian Kim\",\"45\",\"Male\",\"75000\",\"2011-07-01\"],\n",
    "    [\"014\",\"107\",\"Emily Lee\",\"26\",\"Female\",\"46000\",\"2019-01-01\"],\n",
    "    [\"015\",\"106\",\"Michael Lee\",\"37\",\"Male\",\"63000\",\"2014-09-30\"],\n",
    "    [\"016\",\"107\",\"Kelly Zhang\",\"30\",\"Female\",\"49000\",\"2018-04-01\"],\n",
    "    [\"017\",\"105\",\"George Wang\",\"34\",\"Male\",\"57000\",\"2016-03-15\"],\n",
    "    [\"018\",\"104\",\"Nancy Liu\",\"29\",\"Female\",\"50000\",\"2017-06-01\"],\n",
    "    [\"019\",\"103\",\"Steven Chen\",\"36\",\"Male\",\"62000\",\"2015-08-01\"],\n",
    "    [\"020\",\"102\",\"Grace Kim\",\"32\",\"Female\",\"53000\",\"2018-11-01\"]\n",
    "]\n",
    "\n",
    "emp_schema = \"employee_id string, department_id string, name string, age string, gender string, salary string, hire_date string\""
   ]
  },
  {
   "cell_type": "code",
   "execution_count": 3,
   "id": "2eecd8a9-e0e8-49b6-81eb-efd2c9da7148",
   "metadata": {},
   "outputs": [],
   "source": [
    "emp = spark.createDataFrame(data=emp_data, schema=emp_schema)"
   ]
  },
  {
   "cell_type": "code",
   "execution_count": 4,
   "id": "8ab2073f-1d32-454b-a200-5da3617b22a5",
   "metadata": {},
   "outputs": [],
   "source": [
    "from pyspark.sql.functions import col\n",
    "emp_casted = emp.select(\"employee_id\", \"name\", \"age\", col(\"salary\").cast(\"double\"))"
   ]
  },
  {
   "cell_type": "code",
   "execution_count": 5,
   "id": "8200d5b8-75eb-4219-984c-44e9085d7d7d",
   "metadata": {},
   "outputs": [
    {
     "name": "stdout",
     "output_type": "stream",
     "text": [
      "root\n",
      " |-- employee_id: string (nullable = true)\n",
      " |-- name: string (nullable = true)\n",
      " |-- age: string (nullable = true)\n",
      " |-- salary: double (nullable = true)\n",
      "\n"
     ]
    }
   ],
   "source": [
    "emp_casted.printSchema()"
   ]
  },
  {
   "cell_type": "code",
   "execution_count": 6,
   "id": "2247a771-fab5-47ee-aa2e-42d89542c6f4",
   "metadata": {},
   "outputs": [],
   "source": [
    "emp_tax = emp_casted.withColumn(\"tax\", col(\"salary\") * 0.2)"
   ]
  },
  {
   "cell_type": "code",
   "execution_count": 7,
   "id": "f684e3a0-3dba-47a6-bed0-69d22a128937",
   "metadata": {},
   "outputs": [
    {
     "name": "stdout",
     "output_type": "stream",
     "text": [
      "+-----------+-------------+---+-------+-------+\n",
      "|employee_id|         name|age| salary|    tax|\n",
      "+-----------+-------------+---+-------+-------+\n",
      "|        001|     John Doe| 30|50000.0|10000.0|\n",
      "|        002|   Jane Smith| 25|45000.0| 9000.0|\n",
      "|        003|    Bob Brown| 35|55000.0|11000.0|\n",
      "|        004|    Alice Lee| 28|48000.0| 9600.0|\n",
      "|        005|    Jack Chan| 40|60000.0|12000.0|\n",
      "|        006|    Jill Wong| 32|52000.0|10400.0|\n",
      "|        007|James Johnson| 42|70000.0|14000.0|\n",
      "|        008|     Kate Kim| 29|51000.0|10200.0|\n",
      "|        009|      Tom Tan| 33|58000.0|11600.0|\n",
      "|        010|     Lisa Lee| 27|47000.0| 9400.0|\n",
      "|        011|   David Park| 38|65000.0|13000.0|\n",
      "|        012|   Susan Chen| 31|54000.0|10800.0|\n",
      "|        013|    Brian Kim| 45|75000.0|15000.0|\n",
      "|        014|    Emily Lee| 26|46000.0| 9200.0|\n",
      "|        015|  Michael Lee| 37|63000.0|12600.0|\n",
      "|        016|  Kelly Zhang| 30|49000.0| 9800.0|\n",
      "|        017|  George Wang| 34|57000.0|11400.0|\n",
      "|        018|    Nancy Liu| 29|50000.0|10000.0|\n",
      "|        019|  Steven Chen| 36|62000.0|12400.0|\n",
      "|        020|    Grace Kim| 32|53000.0|10600.0|\n",
      "+-----------+-------------+---+-------+-------+\n",
      "\n"
     ]
    }
   ],
   "source": [
    "emp_tax.show()"
   ]
  },
  {
   "cell_type": "code",
   "execution_count": 10,
   "id": "7a42454b-c8fc-4d72-8402-173495c15dc8",
   "metadata": {},
   "outputs": [],
   "source": [
    "from pyspark.sql.functions import lit\n",
    "emp_new_cols = emp_tax.withColumn(\"Column\", lit(1)).withColumn(\"columnTwo\", lit(\"two\"))"
   ]
  },
  {
   "cell_type": "code",
   "execution_count": 11,
   "id": "a1f63a89-cd5c-4721-861d-8768f5908dbb",
   "metadata": {},
   "outputs": [
    {
     "name": "stdout",
     "output_type": "stream",
     "text": [
      "+-----------+-------------+---+-------+-------+------+---------+\n",
      "|employee_id|         name|age| salary|    tax|Column|columnTwo|\n",
      "+-----------+-------------+---+-------+-------+------+---------+\n",
      "|        001|     John Doe| 30|50000.0|10000.0|     1|      two|\n",
      "|        002|   Jane Smith| 25|45000.0| 9000.0|     1|      two|\n",
      "|        003|    Bob Brown| 35|55000.0|11000.0|     1|      two|\n",
      "|        004|    Alice Lee| 28|48000.0| 9600.0|     1|      two|\n",
      "|        005|    Jack Chan| 40|60000.0|12000.0|     1|      two|\n",
      "|        006|    Jill Wong| 32|52000.0|10400.0|     1|      two|\n",
      "|        007|James Johnson| 42|70000.0|14000.0|     1|      two|\n",
      "|        008|     Kate Kim| 29|51000.0|10200.0|     1|      two|\n",
      "|        009|      Tom Tan| 33|58000.0|11600.0|     1|      two|\n",
      "|        010|     Lisa Lee| 27|47000.0| 9400.0|     1|      two|\n",
      "|        011|   David Park| 38|65000.0|13000.0|     1|      two|\n",
      "|        012|   Susan Chen| 31|54000.0|10800.0|     1|      two|\n",
      "|        013|    Brian Kim| 45|75000.0|15000.0|     1|      two|\n",
      "|        014|    Emily Lee| 26|46000.0| 9200.0|     1|      two|\n",
      "|        015|  Michael Lee| 37|63000.0|12600.0|     1|      two|\n",
      "|        016|  Kelly Zhang| 30|49000.0| 9800.0|     1|      two|\n",
      "|        017|  George Wang| 34|57000.0|11400.0|     1|      two|\n",
      "|        018|    Nancy Liu| 29|50000.0|10000.0|     1|      two|\n",
      "|        019|  Steven Chen| 36|62000.0|12400.0|     1|      two|\n",
      "|        020|    Grace Kim| 32|53000.0|10600.0|     1|      two|\n",
      "+-----------+-------------+---+-------+-------+------+---------+\n",
      "\n"
     ]
    }
   ],
   "source": [
    "emp_new_cols.show()"
   ]
  },
  {
   "cell_type": "code",
   "execution_count": 12,
   "id": "3875ca6b-2f8e-4494-8e40-db3c63abc878",
   "metadata": {},
   "outputs": [],
   "source": [
    "emp_1 = emp_new_cols.withColumnRenamed(\"employee_id\", \"emp_id\")"
   ]
  },
  {
   "cell_type": "code",
   "execution_count": 13,
   "id": "7baad1bc-094a-4b9c-9b81-150ab2e920cd",
   "metadata": {},
   "outputs": [
    {
     "name": "stdout",
     "output_type": "stream",
     "text": [
      "+------+-------------+---+-------+-------+------+---------+\n",
      "|emp_id|         name|age| salary|    tax|Column|columnTwo|\n",
      "+------+-------------+---+-------+-------+------+---------+\n",
      "|   001|     John Doe| 30|50000.0|10000.0|     1|      two|\n",
      "|   002|   Jane Smith| 25|45000.0| 9000.0|     1|      two|\n",
      "|   003|    Bob Brown| 35|55000.0|11000.0|     1|      two|\n",
      "|   004|    Alice Lee| 28|48000.0| 9600.0|     1|      two|\n",
      "|   005|    Jack Chan| 40|60000.0|12000.0|     1|      two|\n",
      "|   006|    Jill Wong| 32|52000.0|10400.0|     1|      two|\n",
      "|   007|James Johnson| 42|70000.0|14000.0|     1|      two|\n",
      "|   008|     Kate Kim| 29|51000.0|10200.0|     1|      two|\n",
      "|   009|      Tom Tan| 33|58000.0|11600.0|     1|      two|\n",
      "|   010|     Lisa Lee| 27|47000.0| 9400.0|     1|      two|\n",
      "|   011|   David Park| 38|65000.0|13000.0|     1|      two|\n",
      "|   012|   Susan Chen| 31|54000.0|10800.0|     1|      two|\n",
      "|   013|    Brian Kim| 45|75000.0|15000.0|     1|      two|\n",
      "|   014|    Emily Lee| 26|46000.0| 9200.0|     1|      two|\n",
      "|   015|  Michael Lee| 37|63000.0|12600.0|     1|      two|\n",
      "|   016|  Kelly Zhang| 30|49000.0| 9800.0|     1|      two|\n",
      "|   017|  George Wang| 34|57000.0|11400.0|     1|      two|\n",
      "|   018|    Nancy Liu| 29|50000.0|10000.0|     1|      two|\n",
      "|   019|  Steven Chen| 36|62000.0|12400.0|     1|      two|\n",
      "|   020|    Grace Kim| 32|53000.0|10600.0|     1|      two|\n",
      "+------+-------------+---+-------+-------+------+---------+\n",
      "\n"
     ]
    }
   ],
   "source": [
    "emp_1.show()"
   ]
  },
  {
   "cell_type": "code",
   "execution_count": 16,
   "id": "5eb1f397-dc98-425c-a1ec-a7cc7cb6e75a",
   "metadata": {},
   "outputs": [
    {
     "name": "stdout",
     "output_type": "stream",
     "text": [
      "+-----------+-------------+---+-------+-------+------+----------+\n",
      "|employee_id|         name|age| salary|    tax|Column|Column Two|\n",
      "+-----------+-------------+---+-------+-------+------+----------+\n",
      "|        001|     John Doe| 30|50000.0|10000.0|     1|       two|\n",
      "|        002|   Jane Smith| 25|45000.0| 9000.0|     1|       two|\n",
      "|        003|    Bob Brown| 35|55000.0|11000.0|     1|       two|\n",
      "|        004|    Alice Lee| 28|48000.0| 9600.0|     1|       two|\n",
      "|        005|    Jack Chan| 40|60000.0|12000.0|     1|       two|\n",
      "|        006|    Jill Wong| 32|52000.0|10400.0|     1|       two|\n",
      "|        007|James Johnson| 42|70000.0|14000.0|     1|       two|\n",
      "|        008|     Kate Kim| 29|51000.0|10200.0|     1|       two|\n",
      "|        009|      Tom Tan| 33|58000.0|11600.0|     1|       two|\n",
      "|        010|     Lisa Lee| 27|47000.0| 9400.0|     1|       two|\n",
      "|        011|   David Park| 38|65000.0|13000.0|     1|       two|\n",
      "|        012|   Susan Chen| 31|54000.0|10800.0|     1|       two|\n",
      "|        013|    Brian Kim| 45|75000.0|15000.0|     1|       two|\n",
      "|        014|    Emily Lee| 26|46000.0| 9200.0|     1|       two|\n",
      "|        015|  Michael Lee| 37|63000.0|12600.0|     1|       two|\n",
      "|        016|  Kelly Zhang| 30|49000.0| 9800.0|     1|       two|\n",
      "|        017|  George Wang| 34|57000.0|11400.0|     1|       two|\n",
      "|        018|    Nancy Liu| 29|50000.0|10000.0|     1|       two|\n",
      "|        019|  Steven Chen| 36|62000.0|12400.0|     1|       two|\n",
      "|        020|    Grace Kim| 32|53000.0|10600.0|     1|       two|\n",
      "+-----------+-------------+---+-------+-------+------+----------+\n",
      "\n"
     ]
    }
   ],
   "source": [
    "emp_2 = emp_new_cols.withColumnRenamed(\"columnTwo\", \"Column Two\")\n",
    "emp_2.show()"
   ]
  },
  {
   "cell_type": "code",
   "execution_count": 18,
   "id": "99847cbe-a78c-45a9-9efb-742a2f749834",
   "metadata": {},
   "outputs": [
    {
     "name": "stdout",
     "output_type": "stream",
     "text": [
      "+-----------+-------------+---+-------+-------+\n",
      "|employee_id|         name|age| salary|    tax|\n",
      "+-----------+-------------+---+-------+-------+\n",
      "|        001|     John Doe| 30|50000.0|10000.0|\n",
      "|        002|   Jane Smith| 25|45000.0| 9000.0|\n",
      "|        003|    Bob Brown| 35|55000.0|11000.0|\n",
      "|        004|    Alice Lee| 28|48000.0| 9600.0|\n",
      "|        005|    Jack Chan| 40|60000.0|12000.0|\n",
      "|        006|    Jill Wong| 32|52000.0|10400.0|\n",
      "|        007|James Johnson| 42|70000.0|14000.0|\n",
      "|        008|     Kate Kim| 29|51000.0|10200.0|\n",
      "|        009|      Tom Tan| 33|58000.0|11600.0|\n",
      "|        010|     Lisa Lee| 27|47000.0| 9400.0|\n",
      "|        011|   David Park| 38|65000.0|13000.0|\n",
      "|        012|   Susan Chen| 31|54000.0|10800.0|\n",
      "|        013|    Brian Kim| 45|75000.0|15000.0|\n",
      "|        014|    Emily Lee| 26|46000.0| 9200.0|\n",
      "|        015|  Michael Lee| 37|63000.0|12600.0|\n",
      "|        016|  Kelly Zhang| 30|49000.0| 9800.0|\n",
      "|        017|  George Wang| 34|57000.0|11400.0|\n",
      "|        018|    Nancy Liu| 29|50000.0|10000.0|\n",
      "|        019|  Steven Chen| 36|62000.0|12400.0|\n",
      "|        020|    Grace Kim| 32|53000.0|10600.0|\n",
      "+-----------+-------------+---+-------+-------+\n",
      "\n"
     ]
    }
   ],
   "source": [
    "emp_dropped = emp_new_cols.drop(\"columnTwo\", \"Column\")\n",
    "emp_dropped.show()"
   ]
  },
  {
   "cell_type": "code",
   "execution_count": 19,
   "id": "0059f346-e937-45bf-923d-01934bb28ed2",
   "metadata": {},
   "outputs": [
    {
     "name": "stdout",
     "output_type": "stream",
     "text": [
      "+-----------+-------------+---+-------+-------+------+---------+\n",
      "|employee_id|         name|age| salary|    tax|Column|columnTwo|\n",
      "+-----------+-------------+---+-------+-------+------+---------+\n",
      "|        003|    Bob Brown| 35|55000.0|11000.0|     1|      two|\n",
      "|        005|    Jack Chan| 40|60000.0|12000.0|     1|      two|\n",
      "|        006|    Jill Wong| 32|52000.0|10400.0|     1|      two|\n",
      "|        007|James Johnson| 42|70000.0|14000.0|     1|      two|\n",
      "|        008|     Kate Kim| 29|51000.0|10200.0|     1|      two|\n",
      "|        009|      Tom Tan| 33|58000.0|11600.0|     1|      two|\n",
      "|        011|   David Park| 38|65000.0|13000.0|     1|      two|\n",
      "|        012|   Susan Chen| 31|54000.0|10800.0|     1|      two|\n",
      "|        013|    Brian Kim| 45|75000.0|15000.0|     1|      two|\n",
      "|        015|  Michael Lee| 37|63000.0|12600.0|     1|      two|\n",
      "|        017|  George Wang| 34|57000.0|11400.0|     1|      two|\n",
      "|        019|  Steven Chen| 36|62000.0|12400.0|     1|      two|\n",
      "|        020|    Grace Kim| 32|53000.0|10600.0|     1|      two|\n",
      "+-----------+-------------+---+-------+-------+------+---------+\n",
      "\n"
     ]
    }
   ],
   "source": [
    "emp_filtered = emp_new_cols.where(\"tax > 10000\")\n",
    "emp_filtered.show()"
   ]
  },
  {
   "cell_type": "code",
   "execution_count": 20,
   "id": "93bc1a5d-9072-4bc7-b298-91de5b11496f",
   "metadata": {},
   "outputs": [
    {
     "name": "stdout",
     "output_type": "stream",
     "text": [
      "+-----------+----------+---+-------+-------+------+---------+\n",
      "|employee_id|      name|age| salary|    tax|Column|columnTwo|\n",
      "+-----------+----------+---+-------+-------+------+---------+\n",
      "|        001|  John Doe| 30|50000.0|10000.0|     1|      two|\n",
      "|        002|Jane Smith| 25|45000.0| 9000.0|     1|      two|\n",
      "|        003| Bob Brown| 35|55000.0|11000.0|     1|      two|\n",
      "+-----------+----------+---+-------+-------+------+---------+\n",
      "\n"
     ]
    }
   ],
   "source": [
    "emp_filtered = emp_new_cols.limit(3)\n",
    "emp_filtered.show()"
   ]
  },
  {
   "cell_type": "code",
   "execution_count": 21,
   "id": "b503f41b-4b27-466e-b2c7-fa4c45081c86",
   "metadata": {},
   "outputs": [
    {
     "name": "stdout",
     "output_type": "stream",
     "text": [
      "+-----------+----------+---+-------+-------+------+---------+\n",
      "|employee_id|      name|age| salary|    tax|Column|columnTwo|\n",
      "+-----------+----------+---+-------+-------+------+---------+\n",
      "|        001|  John Doe| 30|50000.0|10000.0|     1|      two|\n",
      "|        002|Jane Smith| 25|45000.0| 9000.0|     1|      two|\n",
      "+-----------+----------+---+-------+-------+------+---------+\n",
      "only showing top 2 rows\n",
      "\n"
     ]
    }
   ],
   "source": [
    "emp_filtered.show(2)"
   ]
  },
  {
   "cell_type": "code",
   "execution_count": 22,
   "id": "0f15c15e-72c5-4ab3-8638-f61e77cb564a",
   "metadata": {},
   "outputs": [
    {
     "name": "stdout",
     "output_type": "stream",
     "text": [
      "+-----------+-------------+-------------+---+------+------+----------+-------+---------+\n",
      "|employee_id|department_id|         name|age|gender|salary| hire_date|    tax|oneNUMB34|\n",
      "+-----------+-------------+-------------+---+------+------+----------+-------+---------+\n",
      "|        001|          101|     John Doe| 30|  Male| 50000|2015-01-01|10000.0|        1|\n",
      "|        002|          101|   Jane Smith| 25|Female| 45000|2016-02-15| 9000.0|        1|\n",
      "|        003|          102|    Bob Brown| 35|  Male| 55000|2014-05-01|11000.0|        1|\n",
      "|        004|          102|    Alice Lee| 28|Female| 48000|2017-09-30| 9600.0|        1|\n",
      "|        005|          103|    Jack Chan| 40|  Male| 60000|2013-04-01|12000.0|        1|\n",
      "|        006|          103|    Jill Wong| 32|Female| 52000|2018-07-01|10400.0|        1|\n",
      "|        007|          101|James Johnson| 42|  Male| 70000|2012-03-15|14000.0|        1|\n",
      "|        008|          102|     Kate Kim| 29|Female| 51000|2019-10-01|10200.0|        1|\n",
      "|        009|          103|      Tom Tan| 33|  Male| 58000|2016-06-01|11600.0|        1|\n",
      "|        010|          104|     Lisa Lee| 27|Female| 47000|2018-08-01| 9400.0|        1|\n",
      "|        011|          104|   David Park| 38|  Male| 65000|2015-11-01|13000.0|        1|\n",
      "|        012|          105|   Susan Chen| 31|Female| 54000|2017-02-15|10800.0|        1|\n",
      "|        013|          106|    Brian Kim| 45|  Male| 75000|2011-07-01|15000.0|        1|\n",
      "|        014|          107|    Emily Lee| 26|Female| 46000|2019-01-01| 9200.0|        1|\n",
      "|        015|          106|  Michael Lee| 37|  Male| 63000|2014-09-30|12600.0|        1|\n",
      "|        016|          107|  Kelly Zhang| 30|Female| 49000|2018-04-01| 9800.0|        1|\n",
      "|        017|          105|  George Wang| 34|  Male| 57000|2016-03-15|11400.0|        1|\n",
      "|        018|          104|    Nancy Liu| 29|Female| 50000|2017-06-01|10000.0|        1|\n",
      "|        019|          103|  Steven Chen| 36|  Male| 62000|2015-08-01|12400.0|        1|\n",
      "|        020|          102|    Grace Kim| 32|Female| 53000|2018-11-01|10600.0|        1|\n",
      "+-----------+-------------+-------------+---+------+------+----------+-------+---------+\n",
      "\n"
     ]
    }
   ],
   "source": [
    "columns = {\n",
    "    \"tax\": col(\"salary\") * 0.2,\n",
    "    \"oneNUMB34\": lit(1)\n",
    "}\n",
    "emp_final = emp.withColumns(columns)\n",
    "emp_final.show()"
   ]
  }
 ],
 "metadata": {
  "kernelspec": {
   "display_name": "Python 3 (ipykernel)",
   "language": "python",
   "name": "python3"
  },
  "language_info": {
   "codemirror_mode": {
    "name": "ipython",
    "version": 3
   },
   "file_extension": ".py",
   "mimetype": "text/x-python",
   "name": "python",
   "nbconvert_exporter": "python",
   "pygments_lexer": "ipython3",
   "version": "3.10.16"
  }
 },
 "nbformat": 4,
 "nbformat_minor": 5
}
